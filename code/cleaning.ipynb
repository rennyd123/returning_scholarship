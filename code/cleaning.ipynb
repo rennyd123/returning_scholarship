{
 "cells": [
  {
   "cell_type": "markdown",
   "metadata": {},
   "source": [
    "## Temperature Data Subset"
   ]
  },
  {
   "cell_type": "code",
   "execution_count": 22,
   "metadata": {},
   "outputs": [],
   "source": [
    "import pandas as pd \n",
    "import seaborn as sns \n",
    "\n",
    "historic_data = pd.read_csv(\"../data/NABR_historic.csv\")\n",
    "\n",
    "historic_data.columns\n",
    "\n",
    "data_colmap = {\n",
    "    \"long\" : \"longitude\",\n",
    "    \"lat\" : \"latitude\",\n",
    "    \"TimePeriod\" : \"time_period\",\n",
    "    \"RCP\" : \"rep_con_path\",\n",
    "    \"treecanopy\" : \"pct_treecanopy\", \n",
    "    \"Ann_Herb\" : \"pct_annual_herbcov\",\n",
    "    \"Bare\" : \"pct_bareground\",\n",
    "    \"Herb\" : \"pct_herbcov\",\n",
    "    \"Litter\" : \"pct_plantlittercov\",\n",
    "    \"Shrub\" : \"pct_shrubcov\",\n",
    "    \"DrySoilDays_Summer_whole\" : \"drysoildays_summer\",\n",
    "    \"Evap_Summer\" : \"evap_summer\", \n",
    "    \"ExtremeShortTermDryStress_Summer_whole\" : \"xtr_st_drysoilstress_summer\", \n",
    "    \"FrostDays_Winter\" : \"frostdays_winter\", \n",
    "    \"NonDrySWA_Summer_whole\" : \"nondry_swa_summer\",\n",
    "    \"PPT_Winter\" : \"precipitation_winter\", \n",
    "    \"PPT_Summer\" : \"precipitation_summer\",\n",
    "    \"PPT_Annual\" : \"precipitation_annual\", \n",
    "    \"T_Winter\" : \"temp_winter\",\n",
    "    \"T_Summer\" : \"temp_summer\", \n",
    "    \"T_Annual\" : \"temp_annual\", \n",
    "    \"Tmax_Summer\" : \"maxtemp_summer\", \n",
    "    \"Tmin_Winter\" : \"mintemp_winter\", \n",
    "    \"VWC_Winter_whole\" : \"volwater_winter\", \n",
    "    \"VWC_Spring_whole\" : \"volwater_spring\", \n",
    "    \"VWC_Summer_whole\" : \"volwater_summer\", \n",
    "    \"VWC_Fall_whole\" : \"volwater_fall\"\n",
    "}\n",
    "\n",
    "historic_data = historic_data.rename(columns=data_colmap)"
   ]
  },
  {
   "cell_type": "code",
   "execution_count": 23,
   "metadata": {},
   "outputs": [],
   "source": [
    "temp_subset_cols = [\"longitude\", \"latitude\", \"year\", \"frostdays_winter\", 'temp_winter',\n",
    "       'temp_summer', 'temp_annual', 'maxtemp_summer', 'mintemp_winter']\n",
    "temp_subset_hist = historic_data[temp_subset_cols]\n",
    "\n",
    "temp_data_agg = temp_subset_hist.groupby(\"year\")[['temp_winter',\n",
    "       'temp_summer', 'temp_annual', 'maxtemp_summer', 'mintemp_winter']].agg(\"mean\").reset_index()\n",
    "\n",
    "recent_data = pd.read_csv(\"../data/nearterm_data_2020-2024.csv\")\n",
    "recent_data = recent_data.rename(columns=data_colmap)\n",
    "\n",
    "temp_subset_cols = [\"year\", \"frostdays_winter\", 'temp_winter',\n",
    "       'temp_summer', 'temp_annual', 'maxtemp_summer', 'mintemp_winter']\n",
    "temp_subset_recent = recent_data[temp_subset_cols]\n",
    "\n",
    "cleaned_recent_subset = temp_subset_recent.groupby(\"year\")[['temp_winter',\n",
    "       'temp_summer', 'temp_annual', 'maxtemp_summer', 'mintemp_winter']].agg(\"mean\").reset_index()\n",
    "\n",
    "cleaned_temp_subset = pd.merge(temp_data_agg, cleaned_recent_subset, on = ['year', 'temp_winter', 'temp_summer', 'temp_annual',\n",
    "       'maxtemp_summer', 'mintemp_winter'], how = \"outer\")\n",
    "cleaned_temp_subset.to_csv(\"../data/cleaned_temp_subset.csv\")"
   ]
  },
  {
   "cell_type": "markdown",
   "metadata": {},
   "source": [
    "## Soil Data Subset"
   ]
  },
  {
   "cell_type": "code",
   "execution_count": 27,
   "metadata": {},
   "outputs": [
    {
     "data": {
      "text/plain": [
       "Index(['longitude', 'latitude', 'year', 'time_period', 'rep_con_path',\n",
       "       'scenario', 'pct_treecanopy', 'pct_annual_herbcov', 'pct_bareground',\n",
       "       'pct_herbcov', 'pct_plantlittercov', 'pct_shrubcov',\n",
       "       'drysoildays_summer', 'evap_summer', 'xtr_st_drysoilstress_summer',\n",
       "       'frostdays_winter', 'nondry_swa_summer', 'precipitation_winter',\n",
       "       'precipitation_summer', 'precipitation_annual', 'temp_winter',\n",
       "       'temp_summer', 'temp_annual', 'maxtemp_summer', 'mintemp_winter',\n",
       "       'volwater_winter', 'volwater_spring', 'volwater_summer',\n",
       "       'volwater_fall'],\n",
       "      dtype='object')"
      ]
     },
     "execution_count": 27,
     "metadata": {},
     "output_type": "execute_result"
    }
   ],
   "source": [
    "historic_data.columns"
   ]
  },
  {
   "cell_type": "code",
   "execution_count": 29,
   "metadata": {},
   "outputs": [],
   "source": [
    "soil_data_cols = ['year', 'drysoildays_summer', 'evap_summer', 'xtr_st_drysoilstress_summer', 'nondry_swa_summer', 'frostdays_winter'] \n",
    "\n",
    "soil_data_hist = historic_data[soil_data_cols]\n",
    "soil_data_recent = recent_data[soil_data_cols]\n",
    "\n",
    "soil_data_hist_agg = soil_data_hist.groupby(\"year\")[['drysoildays_summer', 'evap_summer', 'xtr_st_drysoilstress_summer', 'frostdays_winter', 'nondry_swa_summer']].agg(\"mean\").reset_index()\n",
    "\n",
    "soil_data_recent_agg = soil_data_recent.groupby(\"year\")[['drysoildays_summer', 'evap_summer', 'xtr_st_drysoilstress_summer', 'frostdays_winter', 'nondry_swa_summer']].agg(\"mean\").reset_index()\n",
    "\n",
    "soil_data_agg = pd.merge(soil_data_hist_agg, soil_data_recent_agg, on = ['year', 'drysoildays_summer', 'evap_summer', 'frostdays_winter', 'xtr_st_drysoilstress_summer', 'nondry_swa_summer'], how = \"outer\")\n",
    "\n",
    "soil_data_agg.to_csv(\"../data/soil_data.csv\")"
   ]
  },
  {
   "cell_type": "markdown",
   "metadata": {},
   "source": [
    "## Coverage Data Subset"
   ]
  },
  {
   "cell_type": "code",
   "execution_count": 25,
   "metadata": {},
   "outputs": [],
   "source": [
    "coverage_cols_agg = [\"year\", 'pct_treecanopy', 'pct_annual_herbcov', 'pct_bareground',\n",
    "       'pct_herbcov', 'pct_plantlittercov', 'pct_shrubcov']\n",
    "\n",
    "coverage_cols_reg = [\"latitude\", \"longitude\", \"year\", 'pct_treecanopy', 'pct_annual_herbcov', 'pct_bareground',\n",
    "       'pct_herbcov', 'pct_plantlittercov', 'pct_shrubcov']\n",
    "\n",
    "coverage_data_hist = historic_data[coverage_cols_agg]\n",
    "coverage_data_recent = recent_data[coverage_cols_agg]\n",
    "\n",
    "coverage_data_nonagg_hist = historic_data[coverage_cols_reg]\n",
    "coverage_data_nonagg_recent = recent_data[coverage_cols_reg]\n",
    "\n",
    "coverage_data_agg_hist = coverage_data_hist.groupby(\"year\")[['pct_treecanopy', 'pct_annual_herbcov', 'pct_bareground',\n",
    "       'pct_herbcov', 'pct_plantlittercov', 'pct_shrubcov']].agg(\"mean\").reset_index()\n",
    "\n",
    "coverage_data_agg_recent = coverage_data_recent.groupby(\"year\")[['pct_treecanopy', 'pct_annual_herbcov', 'pct_bareground',\n",
    "       'pct_herbcov', 'pct_plantlittercov', 'pct_shrubcov']].agg(\"mean\").reset_index()\n",
    "\n",
    "coverage_data_agg = pd.merge(coverage_data_agg_hist, coverage_data_agg_recent, on = [\"year\", 'pct_treecanopy', 'pct_annual_herbcov', 'pct_bareground',\n",
    "       'pct_herbcov', 'pct_plantlittercov', 'pct_shrubcov'], how = \"outer\")\n",
    "coverage_data_agg.to_csv(\"../data/coverage_data_agg.csv\")\n",
    "\n",
    "coverage_data_nonagg = pd.merge(coverage_data_nonagg_hist, coverage_data_nonagg_recent, on = [\"latitude\", \"longitude\", \"year\", 'pct_treecanopy', 'pct_annual_herbcov', 'pct_bareground',\n",
    "       'pct_herbcov', 'pct_plantlittercov', 'pct_shrubcov'], how = \"outer\")\n",
    "coverage_data_nonagg.to_csv(\"../data/coverage_data_reg.csv\")\n"
   ]
  },
  {
   "cell_type": "markdown",
   "metadata": {},
   "source": [
    "## Rain Data Subset"
   ]
  },
  {
   "cell_type": "code",
   "execution_count": 26,
   "metadata": {},
   "outputs": [],
   "source": [
    "rain_cols_agg = [\"year\", 'precipitation_winter',\n",
    "       'precipitation_summer', 'precipitation_annual', 'volwater_winter', 'volwater_spring', 'volwater_summer',\n",
    "       'volwater_fall']\n",
    "\n",
    "rain_cols_reg = [\"year\", 'latitude', 'longitude', 'precipitation_winter',\n",
    "       'precipitation_summer', 'precipitation_annual', 'volwater_winter', 'volwater_spring', 'volwater_summer',\n",
    "       'volwater_fall']\n",
    "\n",
    "rain_hist_agg = historic_data[rain_cols_agg]\n",
    "rain_recent_agg = recent_data[rain_cols_agg]\n",
    "\n",
    "rain_hist_reg = historic_data[rain_cols_reg]\n",
    "rain_recent_reg = recent_data[rain_cols_reg]\n",
    "\n",
    "rain_hist_agg = rain_hist_agg.groupby(\"year\")[['precipitation_winter',\n",
    "       'precipitation_summer', 'precipitation_annual', 'volwater_winter', 'volwater_spring', 'volwater_summer',\n",
    "       'volwater_fall']].agg('mean').reset_index()\n",
    "\n",
    "rain_recent_agg = rain_recent_agg.groupby(\"year\")[['precipitation_winter',\n",
    "       'precipitation_summer', 'precipitation_annual', 'volwater_winter', 'volwater_spring', 'volwater_summer',\n",
    "       'volwater_fall']].agg('mean').reset_index()\n",
    "\n",
    "rain_data_agg = pd.merge(rain_hist_agg, rain_recent_agg, on = [\"year\", 'precipitation_winter',\n",
    "       'precipitation_summer', 'precipitation_annual', 'volwater_winter', 'volwater_spring', 'volwater_summer',\n",
    "       'volwater_fall'], how = \"outer\")\n",
    "rain_data_agg.to_csv(\"../data/rain_data_agg.csv\")\n",
    "\n",
    "rain_data_reg = pd.merge(rain_hist_reg, rain_recent_reg, on = [\"year\", 'latitude', 'longitude', 'precipitation_winter',\n",
    "       'precipitation_summer', 'precipitation_annual', 'volwater_winter', 'volwater_spring', 'volwater_summer',\n",
    "       'volwater_fall'], how = \"outer\")\n",
    "rain_data_reg.to_csv(\"../data/rain_data_reg.csv\")"
   ]
  }
 ],
 "metadata": {
  "kernelspec": {
   "display_name": "Python 3",
   "language": "python",
   "name": "python3"
  },
  "language_info": {
   "codemirror_mode": {
    "name": "ipython",
    "version": 3
   },
   "file_extension": ".py",
   "mimetype": "text/x-python",
   "name": "python",
   "nbconvert_exporter": "python",
   "pygments_lexer": "ipython3",
   "version": "3.9.6"
  }
 },
 "nbformat": 4,
 "nbformat_minor": 2
}
