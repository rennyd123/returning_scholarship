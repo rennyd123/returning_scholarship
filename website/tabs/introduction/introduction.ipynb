{
 "cells": [
  {
   "cell_type": "markdown",
   "metadata": {},
   "source": [
    "## Introduction\n",
    "\n",
    "Over the past few decades, we as a human race have watched our technology get more developed, our methods of production more efficient, and our creativity flourish. We must ask, at what cost does this come at? One of many answers is climate change. Governments, officials, and high up personnel at huge companies make the decisions that affect our climate. \n",
    "\n",
    "While humans can advocate for themselves and the state and safety of our world, animals and insects can’t. Animals and insects face the unjust consequences of human’s actions, and it is important that we stand to protect them, as this earth was their home before it was ours. \n",
    "\n",
    "The four corners region, where Utah, Arizona, Colorado, and New Mexico meet, is a unique area in the United States. It is an area covered in desert, with temperatures that swing on the warmer side. \n"
   ]
  }
 ],
 "metadata": {
  "language_info": {
   "name": "python"
  }
 },
 "nbformat": 4,
 "nbformat_minor": 2
}
